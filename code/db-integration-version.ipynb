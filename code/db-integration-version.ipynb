{
 "cells": [
  {
   "cell_type": "code",
   "execution_count": 2,
   "id": "9ece3710-d4ce-4f19-a308-6a34555ddf7c",
   "metadata": {},
   "outputs": [
    {
     "name": "stdout",
     "output_type": "stream",
     "text": [
      "Requirement already satisfied: google-play-scraper in c:\\users\\jieun\\appdata\\local\\programs\\python\\python39\\lib\\site-packages (1.2.7)\n"
     ]
    },
    {
     "name": "stderr",
     "output_type": "stream",
     "text": [
      "\n",
      "[notice] A new release of pip is available: 25.1 -> 25.1.1\n",
      "[notice] To update, run: python.exe -m pip install --upgrade pip\n"
     ]
    },
    {
     "name": "stdout",
     "output_type": "stream",
     "text": [
      "Requirement already satisfied: app-store-scraper in c:\\users\\jieun\\appdata\\local\\programs\\python\\python39\\lib\\site-packages (0.3.5)\n",
      "Requirement already satisfied: requests==2.23.0 in c:\\users\\jieun\\appdata\\local\\programs\\python\\python39\\lib\\site-packages (from app-store-scraper) (2.23.0)\n",
      "Requirement already satisfied: chardet<4,>=3.0.2 in c:\\users\\jieun\\appdata\\local\\programs\\python\\python39\\lib\\site-packages (from requests==2.23.0->app-store-scraper) (3.0.4)\n",
      "Requirement already satisfied: idna<3,>=2.5 in c:\\users\\jieun\\appdata\\local\\programs\\python\\python39\\lib\\site-packages (from requests==2.23.0->app-store-scraper) (2.10)\n",
      "Requirement already satisfied: urllib3!=1.25.0,!=1.25.1,<1.26,>=1.21.1 in c:\\users\\jieun\\appdata\\local\\programs\\python\\python39\\lib\\site-packages (from requests==2.23.0->app-store-scraper) (1.25.11)\n",
      "Requirement already satisfied: certifi>=2017.4.17 in c:\\users\\jieun\\appdata\\local\\programs\\python\\python39\\lib\\site-packages (from requests==2.23.0->app-store-scraper) (2020.12.5)\n"
     ]
    },
    {
     "name": "stderr",
     "output_type": "stream",
     "text": [
      "\n",
      "[notice] A new release of pip is available: 25.1 -> 25.1.1\n",
      "[notice] To update, run: python.exe -m pip install --upgrade pip\n"
     ]
    }
   ],
   "source": [
    "# 구글 플레이스토어 크롤링 lib \n",
    "!pip install google-play-scraper\n",
    "\n",
    "# 애플 앱스토어 크롤링 lib\n",
    "!pip install app-store-scraper"
   ]
  },
  {
   "cell_type": "code",
   "execution_count": 11,
   "id": "53b118d8-d8b8-4dc8-88ce-5f7e515a5184",
   "metadata": {},
   "outputs": [
    {
     "name": "stdout",
     "output_type": "stream",
     "text": [
      "✅ 크롤링 완료\n",
      "수집된 플레이스토어 리뷰 수: 3000\n"
     ]
    }
   ],
   "source": [
    "#######################################\n",
    "##### 1. 플레이스토어 리뷰 크롤링 #####\n",
    "#######################################\n",
    "\n",
    "from google_play_scraper import reviews, Sort\n",
    "import pandas as pd\n",
    "import datetime\n",
    "import time\n",
    "\n",
    "# 라프텔 앱 ID\n",
    "app_id = 'laftel.net.laftel'\n",
    "\n",
    "# 최대 수집 리뷰 수: 3천 개로 제한\n",
    "max_reviews = 3000\n",
    "all_reviews = []\n",
    "next_token = None\n",
    "\n",
    "# 크롤링 시작\n",
    "while len(all_reviews) < max_reviews:\n",
    "    new_reviews, next_token = reviews(\n",
    "        app_id,\n",
    "        lang='ko',         # 한국어 리뷰만\n",
    "        country='kr',      # 한국\n",
    "        sort=Sort.NEWEST,  # 최신순 정렬\n",
    "        count=100,         # 100개씩 스크랩핑\n",
    "        continuation_token=next_token\n",
    "    )\n",
    "    all_reviews.extend(new_reviews)\n",
    "    # print(f\"수집된 리뷰 수: {len(all_reviews)}\")  # for debug\n",
    "    \n",
    "    if not next_token:\n",
    "        break\n",
    "    time.sleep(1)  # 서버 과부하 방지\n",
    "\n",
    "# DataFrame으로 변환\n",
    "origin_playstore_df = pd.DataFrame(all_reviews)\n",
    "\n",
    "# 개수 확인\n",
    "print(\"✅ 크롤링 완료\")\n",
    "print(f\"수집된 플레이스토어 리뷰 수: {len(origin_playstore_df)}\")"
   ]
  },
  {
   "cell_type": "code",
   "execution_count": 12,
   "id": "844e2152-2639-4530-bc17-dbd4072e719d",
   "metadata": {},
   "outputs": [
    {
     "name": "stdout",
     "output_type": "stream",
     "text": [
      "Index(['reviewId', 'userName', 'userImage', 'content', 'score',\n",
      "       'thumbsUpCount', 'reviewCreatedVersion', 'at', 'replyContent',\n",
      "       'repliedAt', 'appVersion'],\n",
      "      dtype='object')\n"
     ]
    }
   ],
   "source": [
    "print(origin_playstore_df.columns)  # 리뷰 데이터 열 이름 확인"
   ]
  },
  {
   "cell_type": "code",
   "execution_count": 15,
   "id": "62154f61-7be5-4ba5-a4b7-2238f14447a8",
   "metadata": {
    "scrolled": true
   },
   "outputs": [
    {
     "data": {
      "text/html": [
       "<div>\n",
       "<style scoped>\n",
       "    .dataframe tbody tr th:only-of-type {\n",
       "        vertical-align: middle;\n",
       "    }\n",
       "\n",
       "    .dataframe tbody tr th {\n",
       "        vertical-align: top;\n",
       "    }\n",
       "\n",
       "    .dataframe thead th {\n",
       "        text-align: right;\n",
       "    }\n",
       "</style>\n",
       "<table border=\"1\" class=\"dataframe\">\n",
       "  <thead>\n",
       "    <tr style=\"text-align: right;\">\n",
       "      <th></th>\n",
       "      <th>reviewId</th>\n",
       "      <th>userName</th>\n",
       "      <th>userImage</th>\n",
       "      <th>content</th>\n",
       "      <th>score</th>\n",
       "      <th>thumbsUpCount</th>\n",
       "      <th>reviewCreatedVersion</th>\n",
       "      <th>at</th>\n",
       "      <th>replyContent</th>\n",
       "      <th>repliedAt</th>\n",
       "      <th>appVersion</th>\n",
       "    </tr>\n",
       "  </thead>\n",
       "  <tbody>\n",
       "    <tr>\n",
       "      <th>0</th>\n",
       "      <td>ae017c02-4fb4-4b2d-b39d-6eb6a18aae17</td>\n",
       "      <td>김현지</td>\n",
       "      <td>https://play-lh.googleusercontent.com/a/ACg8oc...</td>\n",
       "      <td>라프텔 어플을 핸드폰이랑 갤럭시탭에 다 설치해놓고 쓰고있는데, 지지난주부터 갤럭시탭...</td>\n",
       "      <td>2</td>\n",
       "      <td>0</td>\n",
       "      <td>3.67.0</td>\n",
       "      <td>2025-07-20 14:49:36</td>\n",
       "      <td>None</td>\n",
       "      <td>NaT</td>\n",
       "      <td>3.67.0</td>\n",
       "    </tr>\n",
       "    <tr>\n",
       "      <th>1</th>\n",
       "      <td>586743e7-3577-4683-90af-7e11592c60f5</td>\n",
       "      <td>정호영</td>\n",
       "      <td>https://play-lh.googleusercontent.com/a/ACg8oc...</td>\n",
       "      <td>굿</td>\n",
       "      <td>5</td>\n",
       "      <td>0</td>\n",
       "      <td>None</td>\n",
       "      <td>2025-07-20 12:14:45</td>\n",
       "      <td>None</td>\n",
       "      <td>NaT</td>\n",
       "      <td>None</td>\n",
       "    </tr>\n",
       "    <tr>\n",
       "      <th>2</th>\n",
       "      <td>a58095c6-c5e6-4357-84f6-f0c933a0bde6</td>\n",
       "      <td>김규연</td>\n",
       "      <td>https://play-lh.googleusercontent.com/a/ACg8oc...</td>\n",
       "      <td>아아 왜 무료보기가 없어졌어요-!! 물론 청소년이라서 보려면 부모님한테 허락 받아야...</td>\n",
       "      <td>1</td>\n",
       "      <td>0</td>\n",
       "      <td>None</td>\n",
       "      <td>2025-07-20 10:31:27</td>\n",
       "      <td>None</td>\n",
       "      <td>NaT</td>\n",
       "      <td>None</td>\n",
       "    </tr>\n",
       "    <tr>\n",
       "      <th>3</th>\n",
       "      <td>a279225d-57ef-4d1c-bac7-5428ab5a24af</td>\n",
       "      <td>김윤서</td>\n",
       "      <td>https://play-lh.googleusercontent.com/a-/ALV-U...</td>\n",
       "      <td>굿</td>\n",
       "      <td>5</td>\n",
       "      <td>0</td>\n",
       "      <td>3.67.0</td>\n",
       "      <td>2025-07-19 23:36:27</td>\n",
       "      <td>None</td>\n",
       "      <td>NaT</td>\n",
       "      <td>3.67.0</td>\n",
       "    </tr>\n",
       "    <tr>\n",
       "      <th>4</th>\n",
       "      <td>daba8593-0122-41be-95cf-4e9336a13d59</td>\n",
       "      <td>태극기휘바이든</td>\n",
       "      <td>https://play-lh.googleusercontent.com/a-/ALV-U...</td>\n",
       "      <td>마도조사. 최고.</td>\n",
       "      <td>5</td>\n",
       "      <td>0</td>\n",
       "      <td>None</td>\n",
       "      <td>2025-07-19 21:35:37</td>\n",
       "      <td>None</td>\n",
       "      <td>NaT</td>\n",
       "      <td>None</td>\n",
       "    </tr>\n",
       "  </tbody>\n",
       "</table>\n",
       "</div>"
      ],
      "text/plain": [
       "                               reviewId userName  \\\n",
       "0  ae017c02-4fb4-4b2d-b39d-6eb6a18aae17      김현지   \n",
       "1  586743e7-3577-4683-90af-7e11592c60f5      정호영   \n",
       "2  a58095c6-c5e6-4357-84f6-f0c933a0bde6      김규연   \n",
       "3  a279225d-57ef-4d1c-bac7-5428ab5a24af      김윤서   \n",
       "4  daba8593-0122-41be-95cf-4e9336a13d59  태극기휘바이든   \n",
       "\n",
       "                                           userImage  \\\n",
       "0  https://play-lh.googleusercontent.com/a/ACg8oc...   \n",
       "1  https://play-lh.googleusercontent.com/a/ACg8oc...   \n",
       "2  https://play-lh.googleusercontent.com/a/ACg8oc...   \n",
       "3  https://play-lh.googleusercontent.com/a-/ALV-U...   \n",
       "4  https://play-lh.googleusercontent.com/a-/ALV-U...   \n",
       "\n",
       "                                             content  score  thumbsUpCount  \\\n",
       "0  라프텔 어플을 핸드폰이랑 갤럭시탭에 다 설치해놓고 쓰고있는데, 지지난주부터 갤럭시탭...      2              0   \n",
       "1                                                  굿      5              0   \n",
       "2  아아 왜 무료보기가 없어졌어요-!! 물론 청소년이라서 보려면 부모님한테 허락 받아야...      1              0   \n",
       "3                                                  굿      5              0   \n",
       "4                                          마도조사. 최고.      5              0   \n",
       "\n",
       "  reviewCreatedVersion                  at replyContent repliedAt appVersion  \n",
       "0               3.67.0 2025-07-20 14:49:36         None       NaT     3.67.0  \n",
       "1                 None 2025-07-20 12:14:45         None       NaT       None  \n",
       "2                 None 2025-07-20 10:31:27         None       NaT       None  \n",
       "3               3.67.0 2025-07-19 23:36:27         None       NaT     3.67.0  \n",
       "4                 None 2025-07-19 21:35:37         None       NaT       None  "
      ]
     },
     "execution_count": 15,
     "metadata": {},
     "output_type": "execute_result"
    }
   ],
   "source": [
    "origin_playstore_df.head()"
   ]
  },
  {
   "cell_type": "code",
   "execution_count": 31,
   "id": "08332d76-8797-4439-a6e3-dc3609b3dc61",
   "metadata": {},
   "outputs": [
    {
     "name": "stderr",
     "output_type": "stream",
     "text": [
      "2025-07-21 20:34:50,393 [INFO] Base - Initialised: AppStore('kr', 'laftel', 1169440095)\n",
      "2025-07-21 20:34:50,394 [INFO] Base - Ready to fetch reviews from: https://apps.apple.com/kr/app/laftel/id1169440095\n"
     ]
    },
    {
     "name": "stdout",
     "output_type": "stream",
     "text": [
      "     Country | kr\n",
      "        Name | laftel\n",
      "          ID | 1169440095\n",
      "         URL | https://apps.apple.com/kr/app/laftel/id1169440095\n",
      "Review count | 0\n"
     ]
    },
    {
     "name": "stderr",
     "output_type": "stream",
     "text": [
      "2025-07-21 20:34:50,614 [ERROR] Base - Something went wrong: Expecting value: line 1 column 1 (char 0)\n",
      "2025-07-21 20:34:50,614 [INFO] Base - [id:1169440095] Fetched 0 reviews (0 fetched in total)\n"
     ]
    },
    {
     "name": "stdout",
     "output_type": "stream",
     "text": [
      "[]\n",
      "RangeIndex(start=0, stop=0, step=1)\n",
      "{}\n"
     ]
    }
   ],
   "source": [
    "#######################################\n",
    "####### 2. 앱스토어 리뷰 크롤링 #######\n",
    "#######################################\n",
    "\n",
    "from app_store_scraper import AppStore\n",
    "from pprint import pprint\n",
    "\n",
    "# 앱 리뷰 가져오기\n",
    "app = AppStore(country=\"kr\", app_name=\"laftel\", app_id=1169440095)  # 국가와 앱 이름 지정\n",
    "\n",
    "print(app)\n",
    "\n",
    "app.review(how_many=1000)  # 일단 1천 개 시도\n",
    "\n",
    "# 리뷰 데이터를 DataFrame으로 변환\n",
    "review_list = app.reviews\n",
    "origin_appstore_df = pd.DataFrame(review_list)\n",
    "\n",
    "pprint(review_list)\n",
    "print(origin_appstore_df.columns)\n",
    "print(origin_appstore_df.head(1).to_dict())\n",
    "\n",
    "# # 최신순 정렬\n",
    "# origin_appstore_df = origin_appstore_df.sort_values('date', ascending=False)\n",
    "\n",
    "# # 개수 확인\n",
    "# print(\"✅ 크롤링 완료\")\n",
    "# print(f\"수집된 앱스토어 리뷰 수: {len(origin_appstore_df)}\")"
   ]
  },
  {
   "cell_type": "code",
   "execution_count": null,
   "id": "763786fd-a9f1-4b8c-8a48-5a36d4cd9c99",
   "metadata": {},
   "outputs": [],
   "source": [
    "print(origin_appstore_df.columns)  # 리뷰 데이터 열 이름 확인"
   ]
  },
  {
   "cell_type": "code",
   "execution_count": null,
   "id": "4214eabd-9c28-49df-8c82-6dbf494af6a5",
   "metadata": {},
   "outputs": [],
   "source": [
    "origin_appstore_df.head()"
   ]
  },
  {
   "cell_type": "code",
   "execution_count": null,
   "id": "81d19632-87c5-4ae5-b730-77fa07071745",
   "metadata": {},
   "outputs": [],
   "source": [
    "##### 앱스토어 리뷰 수집 불가 이슈로 DB 통합 중단.."
   ]
  }
 ],
 "metadata": {
  "kernelspec": {
   "display_name": "Python 3 (ipykernel)",
   "language": "python",
   "name": "python3"
  },
  "language_info": {
   "codemirror_mode": {
    "name": "ipython",
    "version": 3
   },
   "file_extension": ".py",
   "mimetype": "text/x-python",
   "name": "python",
   "nbconvert_exporter": "python",
   "pygments_lexer": "ipython3",
   "version": "3.9.1"
  }
 },
 "nbformat": 4,
 "nbformat_minor": 5
}
